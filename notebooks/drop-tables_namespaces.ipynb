{
 "cells": [
  {
   "cell_type": "code",
   "execution_count": 7,
   "id": "bb35e63c-2377-4d60-b14f-eabba5699d05",
   "metadata": {},
   "outputs": [
    {
     "name": "stdout",
     "output_type": "stream",
     "text": [
      "OK: DROP TABLE IF EXISTS football.base._probe\n",
      "OK: DROP TABLE IF EXISTS football.base.matches\n",
      "OK: DROP TABLE IF EXISTS football.base.odds\n",
      "OK: DROP TABLE IF EXISTS football.event.events\n",
      "OK: DROP TABLE IF EXISTS football.event.matches\n",
      "OK: DROP TABLE IF EXISTS football.event.players\n",
      "OK: DROP TABLE IF EXISTS football.event.teams\n",
      "OK: DROP TABLE IF EXISTS football.event.competitions\n",
      "OK: DROP TABLE IF EXISTS football.curated.team_match_summary\n",
      "OK: DROP TABLE IF EXISTS football.curated.player_match_summary\n",
      "OK: DROP TABLE IF EXISTS football.curated.odds_enriched\n",
      "OK: DROP NAMESPACE IF EXISTS football.base\n",
      "OK: DROP NAMESPACE IF EXISTS football.event\n",
      "OK: DROP NAMESPACE IF EXISTS football.curated\n"
     ]
    }
   ],
   "source": [
    "from pyspark.sql import SparkSession\n",
    "\n",
    "spark = SparkSession.builder.getOrCreate()\n",
    "\n",
    "stmts = [\n",
    "    # Drop tables (ok if they don't exist)\n",
    "    \"DROP TABLE IF EXISTS football.base._probe\",\n",
    "    \"DROP TABLE IF EXISTS football.base.matches\",\n",
    "    \"DROP TABLE IF EXISTS football.base.odds\",\n",
    "    \"DROP TABLE IF EXISTS football.event.events\",\n",
    "    \"DROP TABLE IF EXISTS football.event.matches\",\n",
    "    \"DROP TABLE IF EXISTS football.event.players\",\n",
    "    \"DROP TABLE IF EXISTS football.event.teams\",\n",
    "    \"DROP TABLE IF EXISTS football.event.competitions\",\n",
    "    \"DROP TABLE IF EXISTS football.curated.team_match_summary\",\n",
    "    \"DROP TABLE IF EXISTS football.curated.player_match_summary\",\n",
    "    \"DROP TABLE IF EXISTS football.curated.odds_enriched\",\n",
    "    # Drop namespaces last\n",
    "    \"DROP NAMESPACE IF EXISTS football.base\",\n",
    "    \"DROP NAMESPACE IF EXISTS football.event\",\n",
    "    \"DROP NAMESPACE IF EXISTS football.curated\",\n",
    "]\n",
    "\n",
    "for s in stmts:\n",
    "    try:\n",
    "        spark.sql(s)\n",
    "        print(\"OK:\", s)\n",
    "    except Exception as e:\n",
    "        print(\"SKIP:\", s, \"->\", e)\n"
   ]
  },
  {
   "cell_type": "code",
   "execution_count": null,
   "id": "2d7b57bf-ab8d-49f8-b9bf-758e7484fe8b",
   "metadata": {},
   "outputs": [],
   "source": []
  }
 ],
 "metadata": {
  "kernelspec": {
   "display_name": "Python 3 (ipykernel)",
   "language": "python",
   "name": "python3"
  },
  "language_info": {
   "codemirror_mode": {
    "name": "ipython",
    "version": 3
   },
   "file_extension": ".py",
   "mimetype": "text/x-python",
   "name": "python",
   "nbconvert_exporter": "python",
   "pygments_lexer": "ipython3",
   "version": "3.10.16"
  }
 },
 "nbformat": 4,
 "nbformat_minor": 5
}
